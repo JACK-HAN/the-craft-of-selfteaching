{

    {
        "cell_type": "markdown",
        "metadata":
        {},
        "source": [
            "# 函数工具"
        ]
    },
    {
        "cell_type": "markdown",
        "metadata":
        {},
        "source": [
            "这一章要讲的是迭代器、生成器，和装饰器，这些都是函数工具。有人把它们称为 **DIG**（Decorator, Iterator，Generator）—— 它们都是真正掌握 Python 的关键。"
        ]
    },
    {
        "cell_type": "markdown",
        "metadata":
        {},
        "source": [
            "## 迭代器（Iterator）"
        ]
    },
    {
        "cell_type": "markdown",
        "metadata":
        {},
        "source": [
            "我们已经见过 Python 中的所有容器，都是可迭代的 —— 准确地讲，是可以通过迭代遍历每一个元素："
        ]
    },
    {
        "cell_type": "code",
        "execution_count": 5,
        "metadata":
        {},
        "outputs": [
        {
            "name": "stdout",
            "output_type": "stream",
            "text": [
                "t, h, i, s,  , i, s,  , a,  , s, t, r, i, n, g, ., \n",
                "item 1, item 2, 3, 5, \n",
                "1, 2, 3, 4, 5, \n"
            ]
        }],
        "source": [
            "string = \"this is a string.\"\n",
            "list = ['item 1', 'item 2', 3, 5]\n",
            "set = (1, 2, 3, 4, 5)\n",
            "for c in string:\n",
            "    print(c, end=', ')\n",
            "print()\n",
            "for L in list:\n",
            "    print(L, end=', ')\n",
            "print()\n",
            "for s in set:\n",
            "    print(s, end=', ')\n",
            "print()"
        ]
    },
    {
        "cell_type": "markdown",
        "metadata":
        {},
        "source": [
            "有个内建函数，就是用来把一个对象转换成 “可迭代对象” 的 —— `iter()`。"
        ]
    },
    {
        "cell_type": "code",
        "execution_count": 17,
        "metadata":
        {},
        "outputs": [
        {
            "data":
            {
                "text/plain": [
                    "str_iterator"
                ]
            },
            "execution_count": 17,
            "metadata":
            {},
            "output_type": "execute_result"
        },
        {
            "data":
            {
                "text/plain": [
                    "tuple_iterator"
                ]
            },
            "execution_count": 17,
            "metadata":
            {},
            "output_type": "execute_result"
        },
        {
            "data":
            {
                "text/plain": [
                    "list_iterator"
                ]
            },
            "execution_count": 17,
            "metadata":
            {},
            "output_type": "execute_result"
        }],
        "source": [
            "from IPython.core.interactiveshell import InteractiveShell\n",
            "InteractiveShell.ast_node_interactivity = \"all\"\n",
            "\n",
            "i = iter(\"Python\")\n",
            "type(i)\n",
            "s = iter((1, 2, 3, 4, 5))\n",
            "type(s)\n",
            "L = iter(['item 1', 'item 2', 3, 5])\n",
            "type(L)"
        ]
    },
    {
     "name": "stdout",
     "output_type": "stream",
     "text": [
      "t, h, i, s,  , i, s,  , a,  , s, t, r, i, n, g, ., \n",
      "item 1, item 2, 3, 5, \n",
      "1, 2, 3, 4, 5, \n"
     ]
    }
   ],
   "source": [
    "string = \"this is a string.\"\n",
    "list = ['item 1', 'item 2', 3, 5]\n",
    "set = (1, 2, 3, 4, 5)\n",
    "for c in string:\n",
    "    print(c, end=', ')\n",
    "print()\n",
    "for L in list:\n",
    "    print(L, end=', ')\n",
    "print()\n",
    "for s in set:\n",
    "    print(s, end=', ')\n",
    "print()"
   ]
  },
  {
   "cell_type": "markdown",
   "metadata": {},
   "source": [
    "有个内建函数，就是用来把一个 “可迭代对象”（Iterable）转换成 “迭代器”（Iterator）的 —— `iter()`。"
   ]
  },
  {
   "cell_type": "code",
   "execution_count": 17,
   "metadata": {},
   "outputs": [
    {
        "cell_type": "code",
        "execution_count": 26,
        "metadata":
        {},
        "outputs": [
        {
            "data":
            {
                "text/plain": [
                    "'P'"
                ]
            },
            "execution_count": 26,
            "metadata":
            {},
            "output_type": "execute_result"
        },
        {
            "data":
            {
                "text/plain": [
                    "'y'"
                ]
            },
            "execution_count": 26,
            "metadata":
            {},
            "output_type": "execute_result"
        },
        {
            "data":
            {
                "text/plain": [
                    "'t'"
                ]
            },
            "execution_count": 26,
            "metadata":
            {},
            "output_type": "execute_result"
        },
        {
            "data":
            {
                "text/plain": [
                    "'h'"
                ]
            },
            "execution_count": 26,
            "metadata":
            {},
            "output_type": "execute_result"
        },
        {
            "data":
            {
                "text/plain": [
                    "'o'"
                ]
            },
            "execution_count": 26,
            "metadata":
            {},
            "output_type": "execute_result"
        },
        {
            "data":
            {
                "text/plain": [
                    "'n'"
                ]
            },
            "execution_count": 26,
            "metadata":
            {},
            "output_type": "execute_result"
        }],
        "source": [
            "from IPython.core.interactiveshell import InteractiveShell\n",
            "InteractiveShell.ast_node_interactivity = \"all\"\n",
            "\n",
            "i = iter(\"Python\")\n",
            "next(i)\n",
            "next(i)\n",
            "next(i)\n",
            "next(i)\n",
            "next(i)\n",
            "next(i)\n",
            "# next(i) 前面已经到 'n' 了，再调用就会有 StopIteration 错误提示。"
        ]
    },
    {
        "cell_type": "markdown",
        "metadata":
        {},
        "source": [
            "在 `i` 这个迭代器里一共有 6 个元素，所以，`next(i)` 在被调用 6 次之后，就不能再被调用了，一旦再被调用，就会触发 StopIteration 错误。"
        ]
    },
    {

    {
        "cell_type": "code",
        "execution_count": 85,
        "metadata":
        {},
        "outputs": [
        {
            "data":
            {
                "text/plain": [
                    "11"
                ]
            },
            "execution_count": 85,
            "metadata":
            {},
            "output_type": "execute_result"
        },
        {
            "data":
            {
                "text/plain": [
                    "12"
                ]
            },
            "execution_count": 85,
            "metadata":
            {},
            "output_type": "execute_result"
        },
        {
            "data":
            {
                "text/plain": [
                    "13"
                ]
            },
            "execution_count": 85,
            "metadata":
            {},
            "output_type": "execute_result"
        },
        {
            "name": "stdout",
            "output_type": "stream",
            "text": [
                "101\n",
                "102\n",
                "103\n",
                "104\n",
                "105\n"
            ]
        },
        {
            "data":
            {
                "text/plain": [
                    "type"
                ]
            },
            "execution_count": 85,
            "metadata":
            {},
            "output_type": "execute_result"
        }],
        "source": [
            "class Counter(object):\n",
            "    def __init__(self, start, stop):\n",
            "        self.current = start\n",
            "        self.stop = stop\n",
            "    def __iter__(self):\n",
            "        return self\n",
            "    def __next__(self):\n",
            "        if self.current > self.stop:\n",
            "            raise StopIteration\n",
            "        else:\n",
            "            c = self.current\n",
            "            self.current += 1\n",
            "        return c\n",
            "\n",
            "c = Counter(11, 20)\n",
            "next(c)\n",
            "next(c)\n",
            "next(c)\n",
            "for c in Counter(101, 105):\n",
            "    print(c, sep=', ')\n",
            "type(Counter)"
        ]
    },
    {
        "cell_type": "markdown",
        "metadata":
        {},
        "source": [
            "这里的重点在于两个函数的存在，`__iter__(self)` 和 `__next__(self)`。\n",
            "\n",
            "```python\n",
            "    def __iter__(self):\n",
            "        return self\n",
            "```\n",
            "\n",
            "这两句是约定俗成的写法，写上它们，`Counter` 这个类就被会被识别为 Iterator 类型。而后再有 `__next__(self)` 的话，它就是个完整的迭代器了。除了可以用 `for loop` 之外，也可以用 `while loop` 去遍历迭代器中的所有元素："
        ]
    },
    {
        "cell_type": "code",
        "execution_count": 64,
        "metadata":
        {},
        "outputs": [
        {
            "name": "stdout",
            "output_type": "stream",
            "text": [
                "101\n",
                "102\n",
                "103\n",
                "201\n",
                "202\n",
                "203\n"
            ]
        }],
        "source": [
            "class Counter(object):\n",
            "    def __init__(self, start, stop):\n",
            "        self.current = start\n",
            "        self.stop = stop\n",
            "    def __iter__(self):\n",
            "        return self\n",
            "    def __next__(self):\n",
            "        if self.current > self.stop:\n",
            "            raise StopIteration\n",
            "        else:\n",
            "            c = self.current\n",
            "            self.current += 1\n",
            "        return c\n",
            "\n",
            "\n",
            "for c in Counter(101, 103):\n",
            "    print(c, sep=', ')\n",
            "\n",
            "c = Counter(201, 203)\n",
            "while True:\n",
            "    try:\n",
            "        print(next(c), sep=', ')\n",
            "    except StopIteration:\n",
            "        break"
        ]
    },
    {
        "cell_type": "markdown",
        "metadata":
        {},
        "source": [
            "## 生成器（Generator）"
        ]
    },
    {
        "cell_type": "markdown",
        "metadata":
        {},
        "source": [
            "那用函数（而不是 Class）能不能写一个 Counter 呢？答案是能，用生成器（Generator）就行。"
        ]
    },
    {
        "cell_type": "code",
        "execution_count": 67,
        "metadata":
        {},
        "outputs": [
        {
            "name": "stdout",
            "output_type": "stream",
            "text": [
                "101\n",
                "102\n",
                "103\n",
                "104\n",
                "105\n"
            ]
        }],
        "source": [
            "def counter(start, stop):\n",
            "    while start <= stop:\n",
            "        yield start\n",
            "        start += 1\n",
            "for i in counter(101, 105):\n",
            "    print(i)"
        ]
    },
    {
        "cell_type": "markdown",
        "metadata":
        {},
        "source": [
            "哎呀！怎么感觉这个简洁很多呢？\n",
            "\n",
            "不过，是否简洁并不是问题，这次看起来用生成器更简单，无非是因为当前的例子更适合用生成器而已。在不同的情况下，用迭代器和用生成器各有各的优势。\n",
            "\n",
            "这里的关键在于 `yield` 这个语句。它和 `return` 最明显的不同在于，在它之后的语句依然会被执行 —— 而 `return` 之后的语句就被忽略了。\n",
            "\n",
            "但，正因为这个不同，在写生成器的时候，只能用 `yield`，而没办法使用 `return` —— 你现在可以回去把上面代码中的 `yield` 改成 `return` 看看，然后体会一下它们之间的不同。\n",
            "\n",
            "生成器函数被 `next()` 调用后，执行到 `yield` 生成一个值返回（然后继续执行剩余的语句）；下次再被 `next()` 调用的时候，从上次生成返回值的 `yield` 语句处继续执行…… 如果感觉费解，就多读几遍 —— 而后再想想若是生成器中有多个 `yield` 语句会是什么情况？"
        ]
    },
    {
        "cell_type": "markdown",
        "metadata":
        {},
        "source": [
            "还有一种东西，叫做生成器表达式。先看个例子："
        ]
    },
    {
        "cell_type": "code",
        "execution_count": 84,
        "metadata":
        {},
        "outputs": [
        {
            "name": "stdout",
            "output_type": "stream",
            "text": [
                "<generator object <genexpr> at 0x107cc0048>\n",
                "0\n",
                "2\n",
                "4\n",
                "6\n",
                "8\n"
            ]
        }],
        "source": [
            "even = (e for e in range(10) if not e % 2)\n",
            "# odd = (o for o in range(10) if o % 2)\n",
            "print(even)\n",
            "for e in even:\n",
            "    print(e)"
        ]
    },
    {
        "cell_type": "markdown",
        "metadata":
        {},
        "source": [
            "其实，这种表达式我们早就在 List Comprehension 里见过 —— 那就是通过生成器表达式完成的。\n",
            "\n",
            "**注意**\n",
            "\n",
            "仔细看 `even = (e for e in range(10) if not e % 2)`中最外面那层括号，用了圆括号，`even` 就是用生成器创造的迭代器（Iterator），若是用了方括号，那就是用生成器创造的列表（List）—— 当然用花括号 `{}` 生成的就是集合（Set）……"
        ]
    },
    {

    {
        "cell_type": "code",
        "execution_count": 78,
        "metadata":
        {},
        "outputs": [
        {
            "name": "stdout",
            "output_type": "stream",
            "text": [
                "{1, 3, 5, 7, 9}\n",
                "1\n",
                "3\n",
                "5\n",
                "7\n",
                "9\n"
            ]
        }],
        "source": [
            "# even = (e for e in range(10) if not e % 2)\n",
            "odd = {o for o in range(10) if o % 2}\n",
            "print(odd)\n",
            "for o in odd:\n",
            "    print(o)"
        ]
    },
    {

    {

    {
        "cell_type": "code",
        "execution_count": null,
        "metadata":
        {},
        "outputs": [],
        "source": []
    },
    {
        "cell_type": "markdown",
        "metadata":
        {},
        "source": [
            "函数内部当然可以包含其它的函数，以下就是一个函数中包含着其它函数的结构示例：\n",
            "\n",
            "```python\n",
            "def a_func():\n",
            "    def b_func():\n",
            "        pass\n",
            "    def c_func():\n",
            "        pass\n",
            "        def d_func():\n",
            "            pass\n",
            "        b_func()\n",
            "    return True\n",
            "```\n",
            "\n",
            "想象一下，如果，我们让一个函数返回的是另外一个函数呢？我们一步一步来："
        ]
    },
    {

    {
        "cell_type": "code",
        "execution_count": 3,
        "metadata":
        {},
        "outputs": [
        {
            "name": "stdout",
            "output_type": "stream",
            "text": [
                "Hi, I'm a_func!\n",
                "Hi, I'm b_func!\n"
            ]
        }],
        "source": [
            "def a_func():\n",
            "    def b_func():\n",
            "        print(\"Hi, I'm b_func!\")\n",
            "    print(\"Hi, I'm a_func!\")\n",
            "    b_func()\n",
            "a_func()"
        ]
    },
    {
        "cell_type": "markdown",
        "metadata":
        {},
        "source": [
            "上一个代码，我们可以写成这样 —— 让 `a_func()` 将它内部的 `b_func()` 作为它的返回值："
        ]
    },
    {
        "cell_type": "code",
        "execution_count": 5,
        "metadata":
        {},
        "outputs": [
        {
            "name": "stdout",
            "output_type": "stream",
            "text": [
                "Hi, I'm a_func!\n",
                "Hi, I'm b_func!\n"
            ]
        }],
        "source": [
            "def a_func():\n",
            "    def b_func():\n",
            "       print(\"Hi, I'm b_func!\")\n",
            "    print(\"Hi, I'm a_func!\")\n",
            "    return b_func()\n",
            "a_func()"
        ]
    },
    {
        "cell_type": "markdown",
        "metadata":
        {},
        "source": [
            "如果我们在 `return` 语句里只写函数名呢？好像这样："
        ]
    },
    {

    {
        "cell_type": "markdown",
        "metadata":
        {},
        "source": [
            "这次返回的不是调用 `b_func()` 这个函数的执行结果，返回的是 `b_func` 这个_函数本身_。"
        ]
    },
    {
        "cell_type": "markdown",
        "metadata":
        {
            "toc-hr-collapsed": true
        },
        "source": [
            "## 装饰器（Decorator）"
        ]
    },
    {
        "cell_type": "markdown",
        "metadata":
        {},
        "source": [
            "### 函数也是对象"
        ]
    },
    {

    {
        "cell_type": "code",
        "execution_count": 7,
        "metadata":
        {},
        "outputs": [
        {
            "name": "stdout",
            "output_type": "stream",
            "text": [
                "Hi, I'm a_func!\n",
                "We can do sth. before a func is called...\n",
                "Hi, I'm a_func!\n",
                "... and we can do sth. after it is called...\n"
            ]
        }],
        "source": [
            "def a_decorator(func):\n",
            "    def wrapper():\n",
            "        print('We can do sth. before a func is called...')\n",
            "        func()\n",
            "        print('... and we can do sth. after it is called...')\n",
            "    return wrapper()\n",
            "\n",
            "def a_func():\n",
            "    print(\"Hi, I'm a_func!\")\n",
            "    \n",
            "a_func()\n",
            "a_decorator(a_func)"
        ]
    },
    {
        "cell_type": "markdown",
        "metadata":
        {},
        "source": [
            "如果返回的是函数本身，`wrapper`，输出结果跟你想的并不一样："
        ]
    },
    {
        "cell_type": "code",
        "execution_count": 8,
        "metadata":
        {},
        "outputs": [
        {
            "name": "stdout",
            "output_type": "stream",
            "text": [
                "Hi, I'm a_func!\n"
            ]
        },
        {
            "data":
            {
                "text/plain": [
                    "<function __main__.a_decorator.<locals>.wrapper()>"
                ]
            },
            "execution_count": 8,
            "metadata":
            {},
            "output_type": "execute_result"
        }],
        "source": [
            "def a_decorator(func):\n",
            "    def wrapper():\n",
            "        print('We can do sth. before a func is called...')\n",
            "        func()\n",
            "        print('... and we can do sth. after it is called...')\n",
            "    return wrapper  # \n",
            "\n",
            "def a_func():\n",
            "    print(\"Hi, I'm a_func!\")\n",
            "    \n",
            "a_func()\n",
            "a_decorator(a_func)"
        ]
    },
    {

    {

